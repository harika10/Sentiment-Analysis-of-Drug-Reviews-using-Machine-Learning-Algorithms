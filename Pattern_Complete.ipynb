{
  "nbformat": 4,
  "nbformat_minor": 0,
  "metadata": {
    "colab": {
      "name": "Pattern Complete",
      "provenance": [],
      "collapsed_sections": []
    },
    "kernelspec": {
      "name": "python3",
      "display_name": "Python 3"
    },
    "accelerator": "GPU"
  },
  "cells": [
    {
      "cell_type": "code",
      "metadata": {
        "id": "QhHf9BlyQsYw",
        "colab_type": "code",
        "outputId": "ea23d07d-1bac-4b51-a82b-e2c6bb5b3d91",
        "colab": {
          "base_uri": "https://localhost:8080/",
          "height": 202
        }
      },
      "source": [
        "!wget https://archive.ics.uci.edu/ml/machine-learning-databases/00462/drugsCom_raw.zip "
      ],
      "execution_count": 2,
      "outputs": [
        {
          "output_type": "stream",
          "text": [
            "--2019-12-08 23:58:32--  https://archive.ics.uci.edu/ml/machine-learning-databases/00462/drugsCom_raw.zip\n",
            "Resolving archive.ics.uci.edu (archive.ics.uci.edu)... 128.195.10.252\n",
            "Connecting to archive.ics.uci.edu (archive.ics.uci.edu)|128.195.10.252|:443... connected.\n",
            "HTTP request sent, awaiting response... 200 OK\n",
            "Length: 42989872 (41M) [application/x-httpd-php]\n",
            "Saving to: ‘drugsCom_raw.zip’\n",
            "\n",
            "drugsCom_raw.zip    100%[===================>]  41.00M  14.5MB/s    in 2.8s    \n",
            "\n",
            "2019-12-08 23:58:36 (14.5 MB/s) - ‘drugsCom_raw.zip’ saved [42989872/42989872]\n",
            "\n"
          ],
          "name": "stdout"
        }
      ]
    },
    {
      "cell_type": "code",
      "metadata": {
        "id": "hr2zZw3AQ-qf",
        "colab_type": "code",
        "outputId": "60babeef-2783-4e99-e576-5b770768b3b3",
        "colab": {
          "base_uri": "https://localhost:8080/",
          "height": 67
        }
      },
      "source": [
        "!unzip drugsCom_raw.zip "
      ],
      "execution_count": 3,
      "outputs": [
        {
          "output_type": "stream",
          "text": [
            "Archive:  drugsCom_raw.zip\n",
            "  inflating: drugsComTest_raw.tsv    \n",
            "  inflating: drugsComTrain_raw.tsv   \n"
          ],
          "name": "stdout"
        }
      ]
    },
    {
      "cell_type": "code",
      "metadata": {
        "id": "Uu5T5utPRA3y",
        "colab_type": "code",
        "outputId": "08cea730-c7f5-4d20-a2b4-fa7fd5bd0cba",
        "colab": {
          "base_uri": "https://localhost:8080/",
          "height": 195
        }
      },
      "source": [
        "import pandas as pd\n",
        "df_test = pd.read_csv('drugsComTest_raw.tsv',delimiter='\\t')     # Read the files with the pandas dataFrame\n",
        "df_train = pd.read_csv('drugsComTrain_raw.tsv', delimiter='\\t')\n",
        "df_train.head()"
      ],
      "execution_count": 4,
      "outputs": [
        {
          "output_type": "execute_result",
          "data": {
            "text/html": [
              "<div>\n",
              "<style scoped>\n",
              "    .dataframe tbody tr th:only-of-type {\n",
              "        vertical-align: middle;\n",
              "    }\n",
              "\n",
              "    .dataframe tbody tr th {\n",
              "        vertical-align: top;\n",
              "    }\n",
              "\n",
              "    .dataframe thead th {\n",
              "        text-align: right;\n",
              "    }\n",
              "</style>\n",
              "<table border=\"1\" class=\"dataframe\">\n",
              "  <thead>\n",
              "    <tr style=\"text-align: right;\">\n",
              "      <th></th>\n",
              "      <th>Unnamed: 0</th>\n",
              "      <th>drugName</th>\n",
              "      <th>condition</th>\n",
              "      <th>review</th>\n",
              "      <th>rating</th>\n",
              "      <th>date</th>\n",
              "      <th>usefulCount</th>\n",
              "    </tr>\n",
              "  </thead>\n",
              "  <tbody>\n",
              "    <tr>\n",
              "      <th>0</th>\n",
              "      <td>206461</td>\n",
              "      <td>Valsartan</td>\n",
              "      <td>Left Ventricular Dysfunction</td>\n",
              "      <td>\"It has no side effect, I take it in combinati...</td>\n",
              "      <td>9.0</td>\n",
              "      <td>May 20, 2012</td>\n",
              "      <td>27</td>\n",
              "    </tr>\n",
              "    <tr>\n",
              "      <th>1</th>\n",
              "      <td>95260</td>\n",
              "      <td>Guanfacine</td>\n",
              "      <td>ADHD</td>\n",
              "      <td>\"My son is halfway through his fourth week of ...</td>\n",
              "      <td>8.0</td>\n",
              "      <td>April 27, 2010</td>\n",
              "      <td>192</td>\n",
              "    </tr>\n",
              "    <tr>\n",
              "      <th>2</th>\n",
              "      <td>92703</td>\n",
              "      <td>Lybrel</td>\n",
              "      <td>Birth Control</td>\n",
              "      <td>\"I used to take another oral contraceptive, wh...</td>\n",
              "      <td>5.0</td>\n",
              "      <td>December 14, 2009</td>\n",
              "      <td>17</td>\n",
              "    </tr>\n",
              "    <tr>\n",
              "      <th>3</th>\n",
              "      <td>138000</td>\n",
              "      <td>Ortho Evra</td>\n",
              "      <td>Birth Control</td>\n",
              "      <td>\"This is my first time using any form of birth...</td>\n",
              "      <td>8.0</td>\n",
              "      <td>November 3, 2015</td>\n",
              "      <td>10</td>\n",
              "    </tr>\n",
              "    <tr>\n",
              "      <th>4</th>\n",
              "      <td>35696</td>\n",
              "      <td>Buprenorphine / naloxone</td>\n",
              "      <td>Opiate Dependence</td>\n",
              "      <td>\"Suboxone has completely turned my life around...</td>\n",
              "      <td>9.0</td>\n",
              "      <td>November 27, 2016</td>\n",
              "      <td>37</td>\n",
              "    </tr>\n",
              "  </tbody>\n",
              "</table>\n",
              "</div>"
            ],
            "text/plain": [
              "   Unnamed: 0                  drugName  ...               date usefulCount\n",
              "0      206461                 Valsartan  ...       May 20, 2012          27\n",
              "1       95260                Guanfacine  ...     April 27, 2010         192\n",
              "2       92703                    Lybrel  ...  December 14, 2009          17\n",
              "3      138000                Ortho Evra  ...   November 3, 2015          10\n",
              "4       35696  Buprenorphine / naloxone  ...  November 27, 2016          37\n",
              "\n",
              "[5 rows x 7 columns]"
            ]
          },
          "metadata": {
            "tags": []
          },
          "execution_count": 4
        }
      ]
    },
    {
      "cell_type": "code",
      "metadata": {
        "id": "wLlZomUgRG4M",
        "colab_type": "code",
        "colab": {}
      },
      "source": [
        "df_train = df_train.dropna(axis=0)\n",
        "df_test = df_test.dropna(axis=0)\n",
        "df_all = pd.concat([df_train,df_test]).reset_index()\n",
        "del df_all['index']\n",
        "all_list = set(df_all.index)\n",
        "span_list = []\n",
        "for i,j in enumerate(df_all['condition']):\n",
        "    if '</span>' in j:\n",
        "        span_list.append(i)\n",
        "new_idx = all_list.difference(set(span_list))\n",
        "df_all = df_all.iloc[list(new_idx)].reset_index()\n",
        "del df_all['index']\n",
        "df_condition = df_all.groupby(['condition'])['drugName'].nunique().sort_values(ascending=False)\n",
        "df_condition = pd.DataFrame(df_condition).reset_index()\n",
        "df_condition.tail(20)\n",
        "df_condition_1 = df_condition[df_condition['drugName']==1].reset_index()\n",
        "df_condition_1['condition'][0:10]\n",
        "all_list = set(df_all.index)\n",
        "condition_list = []\n",
        "for i,j in enumerate(df_all['condition']):\n",
        "    for c in list(df_condition_1['condition']):\n",
        "        if j == c:\n",
        "            condition_list.append(i)\n",
        "            \n",
        "new_idx = all_list.difference(set(condition_list))\n",
        "df_all = df_all.iloc[list(new_idx)].reset_index()\n",
        "del df_all['index']"
      ],
      "execution_count": 0,
      "outputs": []
    },
    {
      "cell_type": "code",
      "metadata": {
        "id": "ecSp09sJRJsM",
        "colab_type": "code",
        "outputId": "7032b76d-2312-406d-e08e-a88aa58d59a6",
        "colab": {
          "base_uri": "https://localhost:8080/",
          "height": 50
        }
      },
      "source": [
        "from bs4 import BeautifulSoup\n",
        "import nltk\n",
        "from nltk.corpus import stopwords\n",
        "nltk.download('stopwords')\n",
        "from nltk.stem.snowball import SnowballStemmer\n",
        "stops = set(stopwords.words('english'))"
      ],
      "execution_count": 6,
      "outputs": [
        {
          "output_type": "stream",
          "text": [
            "[nltk_data] Downloading package stopwords to /root/nltk_data...\n",
            "[nltk_data]   Unzipping corpora/stopwords.zip.\n"
          ],
          "name": "stdout"
        }
      ]
    },
    {
      "cell_type": "code",
      "metadata": {
        "id": "_NKCIz8HRNcx",
        "colab_type": "code",
        "colab": {}
      },
      "source": [
        "not_stop = [\"aren't\",\"couldn't\",\"didn't\",\"doesn't\",\"don't\",\"hadn't\",\"hasn't\",\"haven't\",\"isn't\",\"mightn't\",\"mustn't\",\"needn't\",\"no\",\"nor\",\"not\",\"shan't\",\"shouldn't\",\"wasn't\",\"weren't\",\"wouldn't\"]\n",
        "for i in not_stop:\n",
        "    stops.remove(i)"
      ],
      "execution_count": 0,
      "outputs": []
    },
    {
      "cell_type": "code",
      "metadata": {
        "id": "uN6ziCYeRTNq",
        "colab_type": "code",
        "outputId": "f584863d-c943-4804-87dd-05c5b89a0846",
        "colab": {
          "base_uri": "https://localhost:8080/",
          "height": 79
        }
      },
      "source": [
        "from sklearn.feature_extraction.text import TfidfVectorizer, CountVectorizer\n",
        "from sklearn.decomposition import TruncatedSVD\n",
        "import lightgbm as lgb\n",
        "pd.options.mode.chained_assignment = None\n",
        "pd.options.display.max_columns = 999\n",
        "from bs4 import BeautifulSoup\n",
        "import re\n",
        "from sklearn.feature_extraction.text import CountVectorizer\n",
        "from sklearn.pipeline import Pipeline\n",
        "from sklearn.model_selection import train_test_split\n",
        "from sklearn import metrics\n",
        "from keras.preprocessing.text import Tokenizer\n",
        "from keras.preprocessing.sequence import pad_sequences\n",
        "from keras.layers import Dense, Input, LSTM, Embedding, Dropout, Activation, CuDNNGRU, Conv1D\n",
        "from keras.layers import Bidirectional, GlobalMaxPool1D\n",
        "from keras.models import Model\n",
        "from keras import initializers, regularizers, constraints, optimizers, layers"
      ],
      "execution_count": 8,
      "outputs": [
        {
          "output_type": "stream",
          "text": [
            "Using TensorFlow backend.\n"
          ],
          "name": "stderr"
        },
        {
          "output_type": "display_data",
          "data": {
            "text/html": [
              "<p style=\"color: red;\">\n",
              "The default version of TensorFlow in Colab will soon switch to TensorFlow 2.x.<br>\n",
              "We recommend you <a href=\"https://www.tensorflow.org/guide/migrate\" target=\"_blank\">upgrade</a> now \n",
              "or ensure your notebook will continue to use TensorFlow 1.x via the <code>%tensorflow_version 1.x</code> magic:\n",
              "<a href=\"https://colab.research.google.com/notebooks/tensorflow_version.ipynb\" target=\"_blank\">more info</a>.</p>\n"
            ],
            "text/plain": [
              "<IPython.core.display.HTML object>"
            ]
          },
          "metadata": {
            "tags": []
          }
        }
      ]
    },
    {
      "cell_type": "code",
      "metadata": {
        "id": "hx6Fikp6Rc5u",
        "colab_type": "code",
        "colab": {}
      },
      "source": [
        "stemmer = SnowballStemmer('english')\n",
        "def review_to_words(raw_review): \n",
        "    review_text = BeautifulSoup(raw_review, 'html.parser').get_text()\n",
        "    letters_only = re.sub('[^a-zA-Z]', ' ', review_text)\n",
        "    words = letters_only.lower().split()\n",
        "    meaningful_words = [w for w in words if not w in stops]\n",
        "    stemming_words = [stemmer.stem(w) for w in meaningful_words]\n",
        "    return( ' '.join(stemming_words))"
      ],
      "execution_count": 0,
      "outputs": []
    },
    {
      "cell_type": "code",
      "metadata": {
        "id": "r4pq9RaMSPO6",
        "colab_type": "code",
        "outputId": "83495720-1253-4cd9-c251-80b23313d77e",
        "colab": {
          "base_uri": "https://localhost:8080/",
          "height": 67
        }
      },
      "source": [
        "df_all['review_clean'] = df_all['review'].apply(review_to_words)\n",
        "df_all['sentiment'] = df_all[\"rating\"].apply(lambda x: 1 if x > 5 else 0)\n",
        "df_all['sentiment'].value_counts()"
      ],
      "execution_count": 10,
      "outputs": [
        {
          "output_type": "execute_result",
          "data": {
            "text/plain": [
              "1    148646\n",
              "0     63407\n",
              "Name: sentiment, dtype: int64"
            ]
          },
          "metadata": {
            "tags": []
          },
          "execution_count": 10
        }
      ]
    },
    {
      "cell_type": "code",
      "metadata": {
        "id": "2VcFovHUSfvD",
        "colab_type": "code",
        "outputId": "d66ab9a6-2d9e-4a8a-de13-771946ecdaa3",
        "colab": {
          "base_uri": "https://localhost:8080/",
          "height": 849
        }
      },
      "source": [
        "import matplotlib.pyplot as plt\n",
        "size = [161491, 53572]\n",
        "colors = ['green', 'skyblue']\n",
        "labels = \"Positive Sentiment\",\"Negative Sentiment\"\n",
        "explode = [0, 0.1]\n",
        "plt.rcParams['figure.figsize'] = (10, 10)\n",
        "plt.pie(size, colors = colors, labels = labels, explode = explode, autopct = '%.2f%%')\n",
        "plt.axis('off')\n",
        "plt.title('Sentiments of Patients', fontsize = 30)\n",
        "plt.legend()\n",
        "plt.show()"
      ],
      "execution_count": 11,
      "outputs": [
        {
          "output_type": "display_data",
          "data": {
            "image/png": "[encoded data removed]",
            "text/plain": [
              "<Figure size 1000x1000 with 1 Axes>"
            ]
          },
          "metadata": {
            "tags": []
          }
        }
      ]
    },
    {
      "cell_type": "code",
      "metadata": {
        "id": "av4k2tlUSss9",
        "colab_type": "code",
        "colab": {
          "base_uri": "https://localhost:8080/",
          "height": 34
        },
        "outputId": "703d5780-5f24-4209-abe7-d746afd1f760"
      },
      "source": [
        "from sklearn.feature_extraction.text import CountVectorizer\n",
        "from sklearn.pipeline import Pipeline\n",
        "\n",
        "vectorizer = CountVectorizer(analyzer = 'word', \n",
        "                             tokenizer = None,\n",
        "                             preprocessor = None, \n",
        "                             stop_words = None, \n",
        "                             min_df = 2,\n",
        "                             ngram_range=(4, 4),\n",
        "                             max_features = 20000\n",
        "                            )\n",
        "vectorizer\n",
        "pipeline = Pipeline([\n",
        "    ('vect', vectorizer),\n",
        "])\n",
        "\n",
        "from sklearn.model_selection import KFold\n",
        "kf = KFold(n_splits=3)\n",
        "kf.get_n_splits(df_all)\n",
        "KFold(n_splits=2, random_state=None, shuffle=False)"
      ],
      "execution_count": 12,
      "outputs": [
        {
          "output_type": "execute_result",
          "data": {
            "text/plain": [
              "KFold(n_splits=2, random_state=None, shuffle=False)"
            ]
          },
          "metadata": {
            "tags": []
          },
          "execution_count": 12
        }
      ]
    },
    {
      "cell_type": "code",
      "metadata": {
        "id": "eB7oZ1SRSvmb",
        "colab_type": "code",
        "colab": {}
      },
      "source": [
        "all_data = pipeline.fit_transform(df_all['review_clean'])"
      ],
      "execution_count": 0,
      "outputs": []
    },
    {
      "cell_type": "code",
      "metadata": {
        "id": "bj74pXP5SyjB",
        "colab_type": "code",
        "colab": {}
      },
      "source": [
        "X_train, X_test, y_train, y_test = train_test_split(all_data, df_all['sentiment'], test_size=0.33, random_state=42) "
      ],
      "execution_count": 0,
      "outputs": []
    },
    {
      "cell_type": "code",
      "metadata": {
        "id": "OgiZ5t1dS1mH",
        "colab_type": "code",
        "outputId": "04b0023a-8531-42ba-8777-9a8ec684fb72",
        "colab": {
          "base_uri": "https://localhost:8080/",
          "height": 1000
        }
      },
      "source": [
        "from tensorflow.python.keras.models import Sequential\n",
        "from tensorflow.python.keras.layers import Dense, Bidirectional, LSTM, BatchNormalization, Dropout\n",
        "from tensorflow.python.keras.preprocessing.sequence import pad_sequences\n",
        "import numpy as np\n",
        "import keras\n",
        "from keras.models import Sequential\n",
        "from keras.layers import Dense\n",
        "import random\n",
        "import tensorflow as tf\n",
        "\n",
        "model2 = keras.models.Sequential()\n",
        "model2.add(keras.layers.Dense(200, input_shape=(20000,)))\n",
        "model2.add(keras.layers.BatchNormalization())\n",
        "model2.add(keras.layers.Activation('relu'))\n",
        "model2.add(keras.layers.Dropout(0.5))\n",
        "model2.add(keras.layers.Dense(300))\n",
        "model2.add(keras.layers.BatchNormalization())\n",
        "model2.add(keras.layers.Activation('relu'))\n",
        "model2.add(keras.layers.Dropout(0.5))\n",
        "model2.add(keras.layers.Dense(100, activation='relu'))\n",
        "model2.add(keras.layers.Dense(1, activation='sigmoid'))\n",
        "\n",
        "model2.compile(optimizer='adam', loss='binary_crossentropy', metrics=['accuracy'])\n",
        "\n",
        "model2.summary()\n",
        "\n",
        "graph2 = model2.fit(X_train, y_train, epochs=10, batch_size=64)"
      ],
      "execution_count": 15,
      "outputs": [
        {
          "output_type": "stream",
          "text": [
            "WARNING:tensorflow:From /usr/local/lib/python3.6/dist-packages/keras/backend/tensorflow_backend.py:66: The name tf.get_default_graph is deprecated. Please use tf.compat.v1.get_default_graph instead.\n",
            "\n",
            "WARNING:tensorflow:From /usr/local/lib/python3.6/dist-packages/keras/backend/tensorflow_backend.py:541: The name tf.placeholder is deprecated. Please use tf.compat.v1.placeholder instead.\n",
            "\n",
            "WARNING:tensorflow:From /usr/local/lib/python3.6/dist-packages/keras/backend/tensorflow_backend.py:4432: The name tf.random_uniform is deprecated. Please use tf.random.uniform instead.\n",
            "\n",
            "WARNING:tensorflow:From /usr/local/lib/python3.6/dist-packages/keras/backend/tensorflow_backend.py:148: The name tf.placeholder_with_default is deprecated. Please use tf.compat.v1.placeholder_with_default instead.\n",
            "\n",
            "WARNING:tensorflow:From /usr/local/lib/python3.6/dist-packages/keras/backend/tensorflow_backend.py:3733: calling dropout (from tensorflow.python.ops.nn_ops) with keep_prob is deprecated and will be removed in a future version.\n",
            "Instructions for updating:\n",
            "Please use `rate` instead of `keep_prob`. Rate should be set to `rate = 1 - keep_prob`.\n",
            "WARNING:tensorflow:From /usr/local/lib/python3.6/dist-packages/keras/optimizers.py:793: The name tf.train.Optimizer is deprecated. Please use tf.compat.v1.train.Optimizer instead.\n",
            "\n",
            "WARNING:tensorflow:From /usr/local/lib/python3.6/dist-packages/keras/backend/tensorflow_backend.py:3657: The name tf.log is deprecated. Please use tf.math.log instead.\n",
            "\n",
            "WARNING:tensorflow:From /usr/local/lib/python3.6/dist-packages/tensorflow_core/python/ops/nn_impl.py:183: where (from tensorflow.python.ops.array_ops) is deprecated and will be removed in a future version.\n",
            "Instructions for updating:\n",
            "Use tf.where in 2.0, which has the same broadcast rule as np.where\n",
            "Model: \"sequential_1\"\n",
            "_________________________________________________________________\n",
            "Layer (type)                 Output Shape              Param #   \n",
            "=================================================================\n",
            "dense_1 (Dense)              (None, 200)               4000200   \n",
            "_________________________________________________________________\n",
            "batch_normalization_1 (Batch (None, 200)               800       \n",
            "_________________________________________________________________\n",
            "activation_1 (Activation)    (None, 200)               0         \n",
            "_________________________________________________________________\n",
            "dropout_1 (Dropout)          (None, 200)               0         \n",
            "_________________________________________________________________\n",
            "dense_2 (Dense)              (None, 300)               60300     \n",
            "_________________________________________________________________\n",
            "batch_normalization_2 (Batch (None, 300)               1200      \n",
            "_________________________________________________________________\n",
            "activation_2 (Activation)    (None, 300)               0         \n",
            "_________________________________________________________________\n",
            "dropout_2 (Dropout)          (None, 300)               0         \n",
            "_________________________________________________________________\n",
            "dense_3 (Dense)              (None, 100)               30100     \n",
            "_________________________________________________________________\n",
            "dense_4 (Dense)              (None, 1)                 101       \n",
            "=================================================================\n",
            "Total params: 4,092,701\n",
            "Trainable params: 4,091,701\n",
            "Non-trainable params: 1,000\n",
            "_________________________________________________________________\n",
            "WARNING:tensorflow:From /usr/local/lib/python3.6/dist-packages/keras/backend/tensorflow_backend.py:1033: The name tf.assign_add is deprecated. Please use tf.compat.v1.assign_add instead.\n",
            "\n",
            "WARNING:tensorflow:From /usr/local/lib/python3.6/dist-packages/keras/backend/tensorflow_backend.py:1020: The name tf.assign is deprecated. Please use tf.compat.v1.assign instead.\n",
            "\n",
            "WARNING:tensorflow:From /usr/local/lib/python3.6/dist-packages/keras/backend/tensorflow_backend.py:3005: The name tf.Session is deprecated. Please use tf.compat.v1.Session instead.\n",
            "\n",
            "Epoch 1/10\n",
            "WARNING:tensorflow:From /usr/local/lib/python3.6/dist-packages/keras/backend/tensorflow_backend.py:190: The name tf.get_default_session is deprecated. Please use tf.compat.v1.get_default_session instead.\n",
            "\n",
            "WARNING:tensorflow:From /usr/local/lib/python3.6/dist-packages/keras/backend/tensorflow_backend.py:197: The name tf.ConfigProto is deprecated. Please use tf.compat.v1.ConfigProto instead.\n",
            "\n",
            "WARNING:tensorflow:From /usr/local/lib/python3.6/dist-packages/keras/backend/tensorflow_backend.py:207: The name tf.global_variables is deprecated. Please use tf.compat.v1.global_variables instead.\n",
            "\n",
            "WARNING:tensorflow:From /usr/local/lib/python3.6/dist-packages/keras/backend/tensorflow_backend.py:216: The name tf.is_variable_initialized is deprecated. Please use tf.compat.v1.is_variable_initialized instead.\n",
            "\n",
            "WARNING:tensorflow:From /usr/local/lib/python3.6/dist-packages/keras/backend/tensorflow_backend.py:223: The name tf.variables_initializer is deprecated. Please use tf.compat.v1.variables_initializer instead.\n",
            "\n",
            "142075/142075 [==============================] - 37s 257us/step - loss: 0.5854 - acc: 0.7129\n",
            "Epoch 2/10\n",
            "142075/142075 [==============================] - 29s 204us/step - loss: 0.5071 - acc: 0.7545\n",
            "Epoch 3/10\n",
            "142075/142075 [==============================] - 29s 203us/step - loss: 0.4689 - acc: 0.7721\n",
            "Epoch 4/10\n",
            "142075/142075 [==============================] - 29s 204us/step - loss: 0.4489 - acc: 0.7805\n",
            "Epoch 5/10\n",
            "142075/142075 [==============================] - 29s 205us/step - loss: 0.4362 - acc: 0.7859\n",
            "Epoch 6/10\n",
            "142075/142075 [==============================] - 29s 207us/step - loss: 0.4258 - acc: 0.7903\n",
            "Epoch 7/10\n",
            "142075/142075 [==============================] - 29s 203us/step - loss: 0.4184 - acc: 0.7932\n",
            "Epoch 8/10\n",
            "142075/142075 [==============================] - 29s 207us/step - loss: 0.4124 - acc: 0.7964\n",
            "Epoch 9/10\n",
            "142075/142075 [==============================] - 29s 207us/step - loss: 0.4077 - acc: 0.7977\n",
            "Epoch 10/10\n",
            "142075/142075 [==============================] - 29s 203us/step - loss: 0.4042 - acc: 0.7995\n"
          ],
          "name": "stdout"
        }
      ]
    },
    {
      "cell_type": "code",
      "metadata": {
        "id": "f9O5JB1zTRWc",
        "colab_type": "code",
        "outputId": "2a8cafe8-f9e6-4b21-d378-75783f3b0947",
        "colab": {
          "base_uri": "https://localhost:8080/",
          "height": 855
        }
      },
      "source": [
        "fig, loss_ax = plt.subplots()\n",
        "acc_ax = loss_ax.twinx()\n",
        "loss_ax.set_ylim([0.0, 1.0])\n",
        "acc_ax.set_ylim([0.0, 1.0])\n",
        "loss_ax.plot(graph2.history['loss'], 'y', label='Testing Loss')\n",
        "acc_ax.plot(graph2.history['acc'], 'b', label='Testing Accuracy')\n",
        "loss_ax.set_xlabel('Epoch')\n",
        "loss_ax.set_ylabel('Loss')\n",
        "acc_ax.set_ylabel('Accuracy')\n",
        "loss_ax.legend(loc='upper left')\n",
        "acc_ax.legend(loc='lower left')\n",
        "plt.show()"
      ],
      "execution_count": 16,
      "outputs": [
        {
          "output_type": "display_data",
          "data": {
            "image/png": "[encoded data removed]",
            "text/plain": [
              "<Figure size 1000x1000 with 2 Axes>"
            ]
          },
          "metadata": {
            "tags": []
          }
        }
      ]
    },
    {
      "cell_type": "code",
      "metadata": {
        "id": "0rcvbgDzTY6r",
        "colab_type": "code",
        "outputId": "6dfe724f-42b1-42dc-e6e3-bc9d4cd328ed",
        "colab": {
          "base_uri": "https://localhost:8080/",
          "height": 67
        }
      },
      "source": [
        "model2_score_test = model2.evaluate(X_test, y_test, batch_size=32)\n",
        "model2_score_train = model2.evaluate(X_train, y_train, batch_size=32)\n",
        "print(\"Accuracy for Long-Short Term Memory is \",model2_score_train[1])"
      ],
      "execution_count": 17,
      "outputs": [
        {
          "output_type": "stream",
          "text": [
            "69978/69978 [==============================] - 7s 99us/step\n",
            "142075/142075 [==============================] - 14s 101us/step\n",
            "Accuracy for Long-Short Term Memory is  0.8088896709480232\n"
          ],
          "name": "stdout"
        }
      ]
    },
    {
      "cell_type": "code",
      "metadata": {
        "id": "F4ER8jaFUj2N",
        "colab_type": "code",
        "colab": {}
      },
      "source": [
        "import numpy as np\n",
        "import keras\n",
        "from keras.models import Sequential\n",
        "from keras.layers import Dense\n",
        "import random\n",
        "from sklearn.ensemble import RandomForestClassifier\n",
        "import tensorflow as tf\n",
        "\n",
        "model1 = RandomForestClassifier(n_estimators=100)\n",
        "\n",
        "graph1 = model1.fit(X_train, y_train)"
      ],
      "execution_count": 0,
      "outputs": []
    },
    {
      "cell_type": "code",
      "metadata": {
        "id": "UTHtBaJMVX_S",
        "colab_type": "code",
        "outputId": "15ee0e15-0bb0-4cdf-a6a4-1133c4bd839e",
        "colab": {
          "base_uri": "https://localhost:8080/",
          "height": 34
        }
      },
      "source": [
        "model1_scores = model1.score(X_test,y_test)\n",
        "\n",
        "print('Accuracy for Random Forest = '+ str(model1_scores))"
      ],
      "execution_count": 19,
      "outputs": [
        {
          "output_type": "stream",
          "text": [
            "Accuracy for Random Forest = 0.7570665066163651\n"
          ],
          "name": "stdout"
        }
      ]
    },
    {
      "cell_type": "code",
      "metadata": {
        "id": "mdSmDzlgVrsu",
        "colab_type": "code",
        "outputId": "c272fd61-fe78-4309-e388-f7c50f98b596",
        "colab": {
          "base_uri": "https://localhost:8080/",
          "height": 218
        }
      },
      "source": [
        "model1_predictions = model1.predict(X_test)\n",
        "from sklearn.metrics import classification_report, confusion_matrix, accuracy_score\n",
        "\n",
        "print(confusion_matrix(model1_predictions,y_test))\n",
        "print(classification_report(model1_predictions,y_test))\n",
        "print(accuracy_score(model1_predictions,y_test))"
      ],
      "execution_count": 20,
      "outputs": [
        {
          "output_type": "stream",
          "text": [
            "[[ 6944  2935]\n",
            " [14065 46034]]\n",
            "              precision    recall  f1-score   support\n",
            "\n",
            "           0       0.33      0.70      0.45      9879\n",
            "           1       0.94      0.77      0.84     60099\n",
            "\n",
            "    accuracy                           0.76     69978\n",
            "   macro avg       0.64      0.73      0.65     69978\n",
            "weighted avg       0.85      0.76      0.79     69978\n",
            "\n",
            "0.7570665066163651\n"
          ],
          "name": "stdout"
        }
      ]
    },
    {
      "cell_type": "code",
      "metadata": {
        "id": "ZYH6RekTdXnH",
        "colab_type": "code",
        "colab": {}
      },
      "source": [
        "import numpy as np \n",
        "import pandas as pd \n",
        "from keras.models import Sequential\n",
        "from keras.layers import Embedding, Flatten, Dense, Dropout\n",
        "from keras.layers import LSTM\n",
        "from keras.layers import GRU\n",
        "from keras.layers import Conv1D, MaxPooling1D, GlobalMaxPooling1D\n",
        "import matplotlib.pyplot as plt\n",
        "from keras.preprocessing.text import Tokenizer\n",
        "from keras.preprocessing.sequence import pad_sequences\n",
        "from sklearn.utils import compute_class_weight\n",
        "from keras import optimizers\n",
        "from sklearn.utils import shuffle\n",
        "from keras.utils import to_categorical"
      ],
      "execution_count": 0,
      "outputs": []
    },
    {
      "cell_type": "code",
      "metadata": {
        "id": "lK8XR0mHNNId",
        "colab_type": "code",
        "colab": {
          "base_uri": "https://localhost:8080/",
          "height": 195
        },
        "outputId": "3cf3df8c-ddaf-4699-a225-5c8d0969d73a"
      },
      "source": [
        "df_train = shuffle(df_train)\n",
        "df_train.head()"
      ],
      "execution_count": 22,
      "outputs": [
        {
          "output_type": "execute_result",
          "data": {
            "text/html": [
              "<div>\n",
              "<style scoped>\n",
              "    .dataframe tbody tr th:only-of-type {\n",
              "        vertical-align: middle;\n",
              "    }\n",
              "\n",
              "    .dataframe tbody tr th {\n",
              "        vertical-align: top;\n",
              "    }\n",
              "\n",
              "    .dataframe thead th {\n",
              "        text-align: right;\n",
              "    }\n",
              "</style>\n",
              "<table border=\"1\" class=\"dataframe\">\n",
              "  <thead>\n",
              "    <tr style=\"text-align: right;\">\n",
              "      <th></th>\n",
              "      <th>Unnamed: 0</th>\n",
              "      <th>drugName</th>\n",
              "      <th>condition</th>\n",
              "      <th>review</th>\n",
              "      <th>rating</th>\n",
              "      <th>date</th>\n",
              "      <th>usefulCount</th>\n",
              "    </tr>\n",
              "  </thead>\n",
              "  <tbody>\n",
              "    <tr>\n",
              "      <th>61482</th>\n",
              "      <td>45048</td>\n",
              "      <td>Fluoxetine</td>\n",
              "      <td>Depression</td>\n",
              "      <td>\"This medication made me yawn frequently. Afte...</td>\n",
              "      <td>2.0</td>\n",
              "      <td>January 7, 2017</td>\n",
              "      <td>18</td>\n",
              "    </tr>\n",
              "    <tr>\n",
              "      <th>39842</th>\n",
              "      <td>89335</td>\n",
              "      <td>Celexa</td>\n",
              "      <td>Depression</td>\n",
              "      <td>\"I&amp;#039;ve taken this medication for about 3:y...</td>\n",
              "      <td>9.0</td>\n",
              "      <td>August 5, 2015</td>\n",
              "      <td>60</td>\n",
              "    </tr>\n",
              "    <tr>\n",
              "      <th>12098</th>\n",
              "      <td>230693</td>\n",
              "      <td>Cyclizine</td>\n",
              "      <td>Motion Sickness</td>\n",
              "      <td>\"I&amp;#039;m a medical doctor (anesthesiologist),...</td>\n",
              "      <td>10.0</td>\n",
              "      <td>June 3, 2009</td>\n",
              "      <td>81</td>\n",
              "    </tr>\n",
              "    <tr>\n",
              "      <th>88803</th>\n",
              "      <td>135963</td>\n",
              "      <td>Acamprosate</td>\n",
              "      <td>Alcohol Dependence</td>\n",
              "      <td>\"I have been in two 28 day in patient programs...</td>\n",
              "      <td>10.0</td>\n",
              "      <td>May 3, 2015</td>\n",
              "      <td>112</td>\n",
              "    </tr>\n",
              "    <tr>\n",
              "      <th>91121</th>\n",
              "      <td>210944</td>\n",
              "      <td>Mirtazapine</td>\n",
              "      <td>Insomnia</td>\n",
              "      <td>\"THIS DRUG SHOULD BE BANNED..... I started on ...</td>\n",
              "      <td>1.0</td>\n",
              "      <td>February 12, 2016</td>\n",
              "      <td>51</td>\n",
              "    </tr>\n",
              "  </tbody>\n",
              "</table>\n",
              "</div>"
            ],
            "text/plain": [
              "       Unnamed: 0     drugName           condition  \\\n",
              "61482       45048   Fluoxetine          Depression   \n",
              "39842       89335       Celexa          Depression   \n",
              "12098      230693    Cyclizine     Motion Sickness   \n",
              "88803      135963  Acamprosate  Alcohol Dependence   \n",
              "91121      210944  Mirtazapine            Insomnia   \n",
              "\n",
              "                                                  review  rating  \\\n",
              "61482  \"This medication made me yawn frequently. Afte...     2.0   \n",
              "39842  \"I&#039;ve taken this medication for about 3:y...     9.0   \n",
              "12098  \"I&#039;m a medical doctor (anesthesiologist),...    10.0   \n",
              "88803  \"I have been in two 28 day in patient programs...    10.0   \n",
              "91121  \"THIS DRUG SHOULD BE BANNED..... I started on ...     1.0   \n",
              "\n",
              "                    date  usefulCount  \n",
              "61482    January 7, 2017           18  \n",
              "39842     August 5, 2015           60  \n",
              "12098       June 3, 2009           81  \n",
              "88803        May 3, 2015          112  \n",
              "91121  February 12, 2016           51  "
            ]
          },
          "metadata": {
            "tags": []
          },
          "execution_count": 22
        }
      ]
    },
    {
      "cell_type": "code",
      "metadata": {
        "id": "VBVZWsnENdhm",
        "colab_type": "code",
        "colab": {}
      },
      "source": [
        "df_train['review'] = df_train['review'].str.replace(\"&#039;\", \"'\", regex=False)"
      ],
      "execution_count": 0,
      "outputs": []
    },
    {
      "cell_type": "code",
      "metadata": {
        "id": "f_j0imClNhgM",
        "colab_type": "code",
        "colab": {}
      },
      "source": [
        "r = df_train['rating']\n",
        "labels = \\\n",
        "1* ((0 <= r) & ( r <= 2))  \\\n",
        "+ 2*((3 <= r) & (r <= 4)) \\\n",
        "+ 3*((5 <= r) & (r <= 6)) \\\n",
        "+ 4*((7 <= r) & (r <= 8)) \\\n",
        "+ 5*((9 <= r) & (r <= 10))\n",
        "\n",
        "labels = labels -1 \n",
        "\n",
        "df_train['label'] = labels"
      ],
      "execution_count": 0,
      "outputs": []
    },
    {
      "cell_type": "code",
      "metadata": {
        "id": "I_S1uIkQNwSN",
        "colab_type": "code",
        "outputId": "7415b753-2457-44dd-9bd0-cf715890b2f4",
        "colab": {
          "base_uri": "https://localhost:8080/",
          "height": 168
        }
      },
      "source": [
        "df_train['review_length'] = df_train['review'].apply(len)\n",
        "df_train['review_length'].describe()"
      ],
      "execution_count": 25,
      "outputs": [
        {
          "output_type": "execute_result",
          "data": {
            "text/plain": [
              "count    160398.000000\n",
              "mean        450.730383\n",
              "std         237.851351\n",
              "min           3.000000\n",
              "25%         258.000000\n",
              "50%         447.000000\n",
              "75%         679.000000\n",
              "max       10547.000000\n",
              "Name: review_length, dtype: float64"
            ]
          },
          "metadata": {
            "tags": []
          },
          "execution_count": 25
        }
      ]
    },
    {
      "cell_type": "code",
      "metadata": {
        "id": "p0DmmFyCN3_B",
        "colab_type": "code",
        "colab": {}
      },
      "source": [
        "MOSTCOMMONWORDS = 2000\n",
        "REVIEWLENGTH = 500\n",
        "SAMPLES = 10000\n",
        "WORDEMBEDDIM = 12\n",
        "EPOCHS = 10\n",
        "VERBOSE = 2\n",
        "BATCHSIZE = 32\n",
        "VALIDATIONPERCENT = 0.25"
      ],
      "execution_count": 0,
      "outputs": []
    },
    {
      "cell_type": "code",
      "metadata": {
        "id": "M3ho6GwKN_nw",
        "colab_type": "code",
        "outputId": "bd668bdf-5ba0-4803-fc15-b11d9699f4d6",
        "colab": {
          "base_uri": "https://localhost:8080/",
          "height": 319
        }
      },
      "source": [
        "samples = df_train['review'].iloc[:SAMPLES]\n",
        "import nltk\n",
        "import urllib.request\n",
        "import math\n",
        "from nltk.corpus import stopwords\n",
        "nltk.download('stopwords')\n",
        "nltk.download('wordnet')\n",
        "from nltk.stem import PorterStemmer\n",
        "from nltk.stem import WordNetLemmatizer\n",
        "def stopword_and_lemmatize(review): \n",
        "    tokens = review.split()\n",
        "    tokens=[token.lower() for token in tokens if token.isalpha()]\n",
        "    sw = stopwords.words('english')\n",
        "    ctokens = tokens\n",
        "    for token in tokens:\n",
        "        if token in sw:\n",
        "            ctokens.remove(token)            \n",
        "    lemmatizer = WordNetLemmatizer()\n",
        "    for i in range(len(ctokens)):\n",
        "        ctokens[i] = lemmatizer.lemmatize(ctokens[i])\n",
        "    return ' '.join(ctokens)\n",
        "\n",
        "print(\"Pre - Processed Text: \\n\", samples.head(5))\n",
        "str0 = samples.apply(stopword_and_lemmatize)\n",
        "print(\"Processed Text: \\n\",str0.head(5))\n",
        "samples = str0"
      ],
      "execution_count": 27,
      "outputs": [
        {
          "output_type": "stream",
          "text": [
            "[nltk_data] Downloading package stopwords to /root/nltk_data...\n",
            "[nltk_data]   Package stopwords is already up-to-date!\n",
            "[nltk_data] Downloading package wordnet to /root/nltk_data...\n",
            "[nltk_data]   Unzipping corpora/wordnet.zip.\n",
            "Pre - Processed Text: \n",
            " 61482    \"This medication made me yawn frequently. Afte...\n",
            "39842    \"I've taken this medication for about 3:years ...\n",
            "12098    \"I'm a medical doctor (anesthesiologist), and ...\n",
            "88803    \"I have been in two 28 day in patient programs...\n",
            "91121    \"THIS DRUG SHOULD BE BANNED..... I started on ...\n",
            "Name: review, dtype: object\n",
            "Processed Text: \n",
            " 61482    medication made yawn two notice improvement mo...\n",
            "39842    taken medication about back diagnosed major de...\n",
            "12098    medical doctor also scuba strong problem motio...\n",
            "88803    been two day patient program within past tried...\n",
            "91121    drug be started longest slept literally though...\n",
            "Name: review, dtype: object\n"
          ],
          "name": "stdout"
        }
      ]
    },
    {
      "cell_type": "code",
      "metadata": {
        "id": "X5x4VfBsOPPS",
        "colab_type": "code",
        "colab": {
          "base_uri": "https://localhost:8080/",
          "height": 34
        },
        "outputId": "816a4079-ae29-4890-c852-9b8c52bb3462"
      },
      "source": [
        "tokenizer = Tokenizer(num_words = MOSTCOMMONWORDS)\n",
        "tokenizer.fit_on_texts(samples)\n",
        "sequences = tokenizer.texts_to_sequences(samples)\n",
        "model3_train = pad_sequences(sequences, maxlen = REVIEWLENGTH)\n",
        "one_hot_labels = to_categorical(labels[:SAMPLES], num_classes = 5)\n",
        "model3_train.shape, one_hot_labels.shape"
      ],
      "execution_count": 28,
      "outputs": [
        {
          "output_type": "execute_result",
          "data": {
            "text/plain": [
              "((10000, 500), (10000, 5))"
            ]
          },
          "metadata": {
            "tags": []
          },
          "execution_count": 28
        }
      ]
    },
    {
      "cell_type": "code",
      "metadata": {
        "id": "XlYBAFUIOtS7",
        "colab_type": "code",
        "colab": {}
      },
      "source": [
        "def plot_history(history):\n",
        "    f, ax = plt.subplots(1, 2, figsize = (16, 7))\n",
        "    acc = history.history['acc']\n",
        "    val_acc = history.history['val_acc']\n",
        "    loss = history.history['loss']\n",
        "    val_loss = history.history['val_loss']\n",
        "    epochs = range(1, len(acc) + 1)\n",
        "    plt.sca(ax[0])\n",
        "    plt.plot(epochs, acc, 'bo', label='Training acc', color = 'green')\n",
        "    plt.plot(epochs, val_acc, 'b', label='Validation acc')\n",
        "    plt.title('Training and validation accuracy')\n",
        "    plt.legend()\n",
        "    plt.sca(ax[1])\n",
        "    plt.plot(epochs, loss, 'bo', label='Training loss', color ='blue')\n",
        "    plt.plot(epochs, val_loss, 'b', label='Validation loss')\n",
        "    plt.title('Training and validation loss')\n",
        "    plt.legend()\n",
        "    plt.show()\n",
        "\n",
        "def train_model(model3, x, y, e = EPOCHS, bs = BATCHSIZE, v = VERBOSE, vs = VALIDATIONPERCENT):\n",
        "    graph3 = model3.fit(x, y, batch_size = bs, epochs = e,  verbose = v, validation_split = vs)\n",
        "    return graph3"
      ],
      "execution_count": 0,
      "outputs": []
    },
    {
      "cell_type": "code",
      "metadata": {
        "id": "penNOxtrOydc",
        "colab_type": "code",
        "outputId": "7e5b428f-d8f6-4f59-80f2-b090a815e1dd",
        "colab": {
          "base_uri": "https://localhost:8080/",
          "height": 386
        }
      },
      "source": [
        "model3 = Sequential()\n",
        "model3.add(Embedding(MOSTCOMMONWORDS, WORDEMBEDDIM, input_length = REVIEWLENGTH))\n",
        "model3.add(Conv1D(WORDEMBEDDIM, 5, activation = 'relu'))\n",
        "model3.add(MaxPooling1D(5))\n",
        "model3.add(GRU(WORDEMBEDDIM*2, dropout = 0.4, recurrent_dropout = 0.4))\n",
        "model3.add(Dropout(0.4))\n",
        "model3.add(Dense(5, activation = 'softmax'))\n",
        "model3.compile(optimizer = 'rmsprop', loss = 'categorical_crossentropy', metrics = ['acc'])\n",
        "model3.summary()"
      ],
      "execution_count": 30,
      "outputs": [
        {
          "output_type": "stream",
          "text": [
            "WARNING:tensorflow:From /usr/local/lib/python3.6/dist-packages/keras/backend/tensorflow_backend.py:4267: The name tf.nn.max_pool is deprecated. Please use tf.nn.max_pool2d instead.\n",
            "\n",
            "Model: \"sequential_2\"\n",
            "_________________________________________________________________\n",
            "Layer (type)                 Output Shape              Param #   \n",
            "=================================================================\n",
            "embedding_1 (Embedding)      (None, 500, 12)           24000     \n",
            "_________________________________________________________________\n",
            "conv1d_1 (Conv1D)            (None, 496, 12)           732       \n",
            "_________________________________________________________________\n",
            "max_pooling1d_1 (MaxPooling1 (None, 99, 12)            0         \n",
            "_________________________________________________________________\n",
            "gru_1 (GRU)                  (None, 24)                2664      \n",
            "_________________________________________________________________\n",
            "dropout_3 (Dropout)          (None, 24)                0         \n",
            "_________________________________________________________________\n",
            "dense_5 (Dense)              (None, 5)                 125       \n",
            "=================================================================\n",
            "Total params: 27,521\n",
            "Trainable params: 27,521\n",
            "Non-trainable params: 0\n",
            "_________________________________________________________________\n"
          ],
          "name": "stdout"
        }
      ]
    },
    {
      "cell_type": "code",
      "metadata": {
        "id": "4aVIaELhfUO9",
        "colab_type": "code",
        "outputId": "9f901716-81b7-4704-dd93-255296c9e229",
        "colab": {
          "base_uri": "https://localhost:8080/",
          "height": 370
        }
      },
      "source": [
        "cnn = train_model(model3, model3_train, one_hot_labels)"
      ],
      "execution_count": 31,
      "outputs": [
        {
          "output_type": "stream",
          "text": [
            "Train on 7500 samples, validate on 2500 samples\n",
            "Epoch 1/10\n",
            " - 50s - loss: 1.4026 - acc: 0.4871 - val_loss: 1.3545 - val_acc: 0.4972\n",
            "Epoch 2/10\n",
            " - 44s - loss: 1.3617 - acc: 0.4905 - val_loss: 1.3219 - val_acc: 0.4972\n",
            "Epoch 3/10\n",
            " - 41s - loss: 1.3097 - acc: 0.4905 - val_loss: 1.2932 - val_acc: 0.4972\n",
            "Epoch 4/10\n",
            " - 41s - loss: 1.2681 - acc: 0.5024 - val_loss: 1.2707 - val_acc: 0.5140\n",
            "Epoch 5/10\n",
            " - 42s - loss: 1.2343 - acc: 0.5239 - val_loss: 1.2646 - val_acc: 0.5224\n",
            "Epoch 6/10\n",
            " - 42s - loss: 1.2051 - acc: 0.5424 - val_loss: 1.2692 - val_acc: 0.5096\n",
            "Epoch 7/10\n",
            " - 43s - loss: 1.1821 - acc: 0.5472 - val_loss: 1.2577 - val_acc: 0.5244\n",
            "Epoch 8/10\n",
            " - 43s - loss: 1.1657 - acc: 0.5580 - val_loss: 1.2617 - val_acc: 0.5260\n",
            "Epoch 9/10\n",
            " - 43s - loss: 1.1567 - acc: 0.5584 - val_loss: 1.2667 - val_acc: 0.5176\n",
            "Epoch 10/10\n",
            " - 43s - loss: 1.1240 - acc: 0.5669 - val_loss: 1.2616 - val_acc: 0.5232\n"
          ],
          "name": "stdout"
        }
      ]
    },
    {
      "cell_type": "code",
      "metadata": {
        "id": "6NM57fCJPhXy",
        "colab_type": "code",
        "colab": {
          "base_uri": "https://localhost:8080/",
          "height": 622
        },
        "outputId": "85150fc5-bfad-456b-9608-74808e37f917"
      },
      "source": [
        "plot_history(cnn)"
      ],
      "execution_count": 32,
      "outputs": [
        {
          "output_type": "display_data",
          "data": {
            "image/png": "[encoded data removed]",
            "text/plain": [
              "<Figure size 1600x700 with 2 Axes>"
            ]
          },
          "metadata": {
            "tags": []
          }
        }
      ]
    },
    {
      "cell_type": "code",
      "metadata": {
        "id": "y5AtZli0S9u6",
        "colab_type": "code",
        "outputId": "c1a3dcaa-f780-4bcf-cabe-0f33e0034b96",
        "colab": {
          "base_uri": "https://localhost:8080/",
          "height": 67
        }
      },
      "source": [
        "model3_score_test = model3.evaluate(model3_train, one_hot_labels, batch_size=32)\n",
        "model3_score_train = model3.evaluate(model3_train, one_hot_labels, batch_size=32)\n",
        "print(\"Accuracy for Convolutional Neural Network is \",model3_score_train[1])"
      ],
      "execution_count": 33,
      "outputs": [
        {
          "output_type": "stream",
          "text": [
            "10000/10000 [==============================] - 19s 2ms/step\n",
            "10000/10000 [==============================] - 20s 2ms/step\n",
            "Accuracy for Convolutional Neural Network is  0.5763\n"
          ],
          "name": "stdout"
        }
      ]
    },
    {
      "cell_type": "code",
      "metadata": {
        "id": "hvYk6q86TuNC",
        "colab_type": "code",
        "colab": {
          "base_uri": "https://localhost:8080/",
          "height": 452
        },
        "outputId": "7cb1691f-c7fa-4847-faa5-5f38dac109e5"
      },
      "source": [
        "import matplotlib.pyplot as plt; plt.rcdefaults()\n",
        "import numpy as np\n",
        "import matplotlib.pyplot as plt\n",
        "\n",
        "objects = ('Random Forest', 'CNN', 'LSTM')\n",
        "y_pos = np.arange(len(objects))\n",
        "performance = (model1_scores,model3_score_train[1],model2_score_train[1],)\n",
        "width = [0.3,0.3,0.3]\n",
        "\n",
        "plt.bar(y_pos, performance, align='center', color=['blue','green','red'], width = width)\n",
        "plt.xticks(y_pos, objects)\n",
        "plt.ylabel('Accuracy')\n",
        "plt.title('Machine Learning Algorithms')\n",
        "\n",
        "plt.show()"
      ],
      "execution_count": 34,
      "outputs": [
        {
          "output_type": "display_data",
          "data": {
            "image/png": "[encoded data removed]",
            "text/plain": [
              "<Figure size 640x480 with 1 Axes>"
            ]
          },
          "metadata": {
            "tags": []
          }
        }
      ]
    }
  ]
}